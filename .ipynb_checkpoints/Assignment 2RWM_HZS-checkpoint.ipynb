{
 "cells": [
  {
   "cell_type": "markdown",
   "id": "2902bc53-bf20-49ac-9893-b9b414a651bd",
   "metadata": {},
   "source": [
    "# Assignment 2  Random Walk Metrics\n",
    "\n",
    "**Name:** Heriberto Zapata Solano \n",
    "\n",
    "**e-mail:** heriberto.zapata7939@alumnos.udg.mx"
   ]
  },
  {
   "cell_type": "markdown",
   "id": "e026e9ba-99e8-4cd6-b691-fb7f1847b4fa",
   "metadata": {},
   "source": [
    "# Modules"
   ]
  },
  {
   "cell_type": "code",
   "execution_count": 1,
   "id": "088b2bd9-793a-4cae-a681-021faa7ec4fd",
   "metadata": {},
   "outputs": [],
   "source": [
    "import numpy as np\n",
    "import pandas as pd\n",
    "import plotly.graph_objs as go\n",
    "from scipy.spatial import distance\n",
    "from scipy.stats import cauchy\n",
    "from scipy.stats import levy_stable\n"
   ]
  },
  {
   "cell_type": "markdown",
   "id": "b4c2c513-50c8-4f4a-a461-7e349a456131",
   "metadata": {},
   "source": [
    "# Load data from CSV files \n",
    "\n",
    "- *to be used in the next set of activities*"
   ]
  },
  {
   "cell_type": "code",
   "execution_count": 2,
   "id": "077acda7-a4c1-4264-bc54-462612def83f",
   "metadata": {},
   "outputs": [],
   "source": [
    "# Load CSV\n",
    "bM3_dataf = pd.read_csv(r'C:\\Users\\herik\\Downloads\\csv\\brownian_3.csv')\n",
    "BM6_dataf = pd.read_csv(r'C:\\Users\\herik\\Downloads\\csv\\brownian_6.csv')\n",
    "CRW6_dataf = pd.read_csv(r'C:\\Users\\herik\\Downloads\\csv\\crw_6_6.csv')\n",
    "CRW9_dataf = pd.read_csv(r'C:\\Users\\herik\\Downloads\\csv\\crw_6_9.csv')\n"
   ]
  },
  {
   "cell_type": "markdown",
   "id": "78065ef7-5fff-4972-9163-b0883e91012c",
   "metadata": {},
   "source": [
    "# Activity 1: Path length - (BM1 vs BM2 vs CRW)\n",
    "- Write a function that returns a Brownian Motion (BM) trajectory in pandas df.\n",
    "- Write a function that returns a Correlated Random Walk (CRW) trajectory in pandas df.\n",
    "- Write a function that returns the path length for a given trajectory.\n",
    "- Compare at least the path length of three trajectories as shown in the figure below.\n",
    "- Display the results using plotly."
   ]
  },
  {
   "cell_type": "code",
   "execution_count": null,
   "id": "2eeef3d0-0d50-4014-856d-3e3b861e5827",
   "metadata": {},
   "outputs": [],
   "source": []
  }
 ],
 "metadata": {
  "kernelspec": {
   "display_name": "Python 3 (ipykernel)",
   "language": "python",
   "name": "python3"
  },
  "language_info": {
   "codemirror_mode": {
    "name": "ipython",
    "version": 3
   },
   "file_extension": ".py",
   "mimetype": "text/x-python",
   "name": "python",
   "nbconvert_exporter": "python",
   "pygments_lexer": "ipython3",
   "version": "3.12.5"
  }
 },
 "nbformat": 4,
 "nbformat_minor": 5
}
